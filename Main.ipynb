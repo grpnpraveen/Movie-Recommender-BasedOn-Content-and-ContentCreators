{
 "cells": [
  {
   "cell_type": "code",
   "execution_count": 18,
   "metadata": {},
   "outputs": [],
   "source": [
    "from neo4j import GraphDatabase\n",
    "from tqdm import tqdm\n",
    "import pandas as pd\n",
    "from sklearn.metrics.pairwise import cosine_similarity\n",
    "import tensorflow_text as text\n",
    "import tensorflow_hub as hub\n",
    "bert_preprocess=hub.KerasLayer(\"https://tfhub.dev/tensorflow/bert_en_uncased_preprocess/3\")\n",
    "bert_encoder=hub.KerasLayer(\"https://tfhub.dev/tensorflow/bert_en_uncased_L-12_H-768_A-12/4\")"
   ]
  },
  {
   "cell_type": "markdown",
   "metadata": {},
   "source": [
    "# init"
   ]
  },
  {
   "cell_type": "code",
   "execution_count": 3,
   "metadata": {},
   "outputs": [],
   "source": [
    "\n",
    "class Neo4j:\n",
    "    def __init__(self,uri,user,password):\n",
    "        self.driver = GraphDatabase.driver(uri,auth=(user,password))\n",
    "\n",
    "    def query(self,query):\n",
    "        result=None\n",
    "        with self.driver.session() as session:\n",
    "            result = list(session.run(query))\n",
    "            session.close()\n",
    "        return result\n",
    "\n",
    "    def get_movies_based_on_genre(self,genre_name):\n",
    "        result=None\n",
    "        with self.driver.session() as session:\n",
    "            query = f\"\"\"\n",
    "                    match (g:genre) where g.name=$genre_name with g\n",
    "                    match (g)-[r:`genre-type`]-(m)\n",
    "                    return m.id as id,m.Movie as movie,m.genre as genre,m.rating as rating,m.votings as votings\n",
    "                    \"\"\"\n",
    "            result=list(session.run(query,genre_name=genre_name))\n",
    "            session.close()\n",
    "        return result\n",
    "\n",
    "    def close(self):\n",
    "        self.driver.close()\n",
    "\n",
    "neo = Neo4j(\"bolt://localhost:7687\",\"neo4j\",\"1234\")\n",
    "def get_sentence_embeding(sentences):\n",
    "    preprocessed_text=bert_preprocess(sentences)\n",
    "    return bert_encoder(preprocessed_text)['pooled_output']"
   ]
  },
  {
   "cell_type": "markdown",
   "metadata": {},
   "source": [
    "# input movie id"
   ]
  },
  {
   "cell_type": "code",
   "execution_count": 74,
   "metadata": {},
   "outputs": [],
   "source": [
    "input_movie_id=\"tt0044954\""
   ]
  },
  {
   "cell_type": "markdown",
   "metadata": {},
   "source": [
    "# Collecting input movie genres"
   ]
  },
  {
   "cell_type": "code",
   "execution_count": 75,
   "metadata": {},
   "outputs": [
    {
     "data": {
      "text/plain": [
       "['Thriller', 'Crime', 'Drama', 'Film-Noir']"
      ]
     },
     "execution_count": 75,
     "metadata": {},
     "output_type": "execute_result"
    }
   ],
   "source": [
    "\n",
    "# input_movie_genres=pd.DataFrame([dict(_) for _ in neo.get_genre(input_movie)])\n",
    "input_movie_genres=[ _[\"genre\"] for _ in neo.query(f''' \n",
    "                    match (m:movie) where m.id=\"{input_movie_id}\" with m\n",
    "                    match (m)-[r:`genre-type`]-(g)\n",
    "                    with m,g\n",
    "                    return g.name as genre ''')]\n",
    "input_movie_genres"
   ]
  },
  {
   "cell_type": "markdown",
   "metadata": {},
   "source": [
    "# directors of the input movie"
   ]
  },
  {
   "cell_type": "code",
   "execution_count": 76,
   "metadata": {},
   "outputs": [
    {
     "data": {
      "text/plain": [
       "[281507, 580017]"
      ]
     },
     "execution_count": 76,
     "metadata": {},
     "output_type": "execute_result"
    }
   ],
   "source": [
    "input_movie_directors= [ _[\"id\"] for _ in neo.query(f''' \n",
    "            match(m: movie) \n",
    "            where m.id=\"{input_movie_id}\"\n",
    "            with m\n",
    "            match (m)-[r:directed]-(d)\n",
    "            with m,d\n",
    "            return d.id as id\n",
    "''')]\n",
    "input_movie_directors"
   ]
  },
  {
   "cell_type": "markdown",
   "metadata": {},
   "source": [
    "# writers of input movie"
   ]
  },
  {
   "cell_type": "code",
   "execution_count": 77,
   "metadata": {},
   "outputs": [
    {
     "data": {
      "text/plain": [
       "[326107, 271641, 502649]"
      ]
     },
     "execution_count": 77,
     "metadata": {},
     "output_type": "execute_result"
    }
   ],
   "source": [
    "input_movie_writers= [ _[\"id\"] for _ in neo.query(f''' \n",
    "            match(m: movie) \n",
    "            where m.id=\"{input_movie_id}\"\n",
    "            with m\n",
    "            match (m)-[r:written]-(w)\n",
    "            with m,w\n",
    "            return w.id as id\n",
    "''')]\n",
    "input_movie_writers"
   ]
  },
  {
   "cell_type": "markdown",
   "metadata": {},
   "source": [
    "# same personality directors"
   ]
  },
  {
   "cell_type": "code",
   "execution_count": 78,
   "metadata": {},
   "outputs": [
    {
     "name": "stderr",
     "output_type": "stream",
     "text": [
      "100%|██████████| 2/2 [00:00<00:00,  5.44it/s]"
     ]
    },
    {
     "name": "stdout",
     "output_type": "stream",
     "text": [
      "Length: 2540\n"
     ]
    },
    {
     "name": "stderr",
     "output_type": "stream",
     "text": [
      "\n"
     ]
    }
   ],
   "source": [
    "# including this directors\n",
    "same_persona_directors=dict()\n",
    "for each_director in tqdm(input_movie_directors):\n",
    "      for g in input_movie_genres:\n",
    "            if(g==\"Film-Noir\"):\n",
    "                g=\"FilmNoir\"\n",
    "            elif(g==\"Sci-Fi\"):\n",
    "                g=\"SciFi\"\n",
    "            elif(g==\"Reality-TV\"):\n",
    "                g=\"RealityTV\"\n",
    "            g=g+\"_trait\"\n",
    "            value=[_[g] for _ in neo.query(f'''\n",
    "                            match (d:director) \n",
    "                            where d.id={each_director}\n",
    "                            with d \n",
    "                            return d.{g} as {g}\n",
    "                            ''')]\n",
    "            # print(value)\n",
    "            query_result=neo.query(f''' \n",
    "                        match (d:director)\n",
    "                        where d.{g}= {value[0]}\n",
    "                        with d\n",
    "                        return d.id as id,d.{g} as {g}\n",
    "            ''')\n",
    "            # print(query_result)\n",
    "            for _ in query_result:\n",
    "                same_persona_directors[_[\"id\"]]=_[g]\n",
    "\n",
    "print(\"Length: \"+str(len(same_persona_directors)))"
   ]
  },
  {
   "cell_type": "code",
   "execution_count": 79,
   "metadata": {},
   "outputs": [
    {
     "name": "stdout",
     "output_type": "stream",
     "text": [
      "1027519 8\n",
      "682309 20\n",
      "Length: 2540\n"
     ]
    }
   ],
   "source": [
    "# sorting based on values\n",
    "for i in same_persona_directors:\n",
    "    print(i,same_persona_directors[i],sep=\" \")\n",
    "    break\n",
    "same_persona_directors = sorted(same_persona_directors.items(), key=lambda x: x[1], reverse=True)\n",
    "for i in same_persona_directors:\n",
    "    print(i[0],i[1])\n",
    "    break\n",
    "print(\"Length: \"+str(len(same_persona_directors)))"
   ]
  },
  {
   "cell_type": "markdown",
   "metadata": {},
   "source": [
    "# same personality writers"
   ]
  },
  {
   "cell_type": "code",
   "execution_count": 80,
   "metadata": {},
   "outputs": [
    {
     "name": "stderr",
     "output_type": "stream",
     "text": [
      "100%|██████████| 3/3 [00:01<00:00,  2.77it/s]"
     ]
    },
    {
     "name": "stdout",
     "output_type": "stream",
     "text": [
      "Length: 5104\n"
     ]
    },
    {
     "name": "stderr",
     "output_type": "stream",
     "text": [
      "\n"
     ]
    }
   ],
   "source": [
    "# including this writers\n",
    "same_persona_writers=dict()\n",
    "for each_writer in tqdm(input_movie_writers):\n",
    "      for g in input_movie_genres:\n",
    "            if(g==\"Film-Noir\"):\n",
    "                g=\"FilmNoir\"\n",
    "            elif(g==\"Sci-Fi\"):\n",
    "                g=\"SciFi\"\n",
    "            elif(g==\"Reality-TV\"):\n",
    "                g=\"RealityTV\"\n",
    "            g=g+\"_trait\"\n",
    "            value=[_[g] for _ in neo.query(f'''\n",
    "                            match (w:writer) \n",
    "                            where w.id={each_writer}\n",
    "                            with w \n",
    "                            return w.{g} as {g}\n",
    "                            ''')]\n",
    "            # print(value)\n",
    "            query_result=neo.query(f''' \n",
    "                        match (w:writer) \n",
    "                        where w.{g}={value[0]}\n",
    "                        with w\n",
    "                        return w.id as id,w.{g} as {g}\n",
    "            ''')\n",
    "            # print(query_result)\n",
    "            for _ in query_result:\n",
    "                same_persona_writers[_[\"id\"]]=_[g]\n",
    "\n",
    "print(\"Length: \"+str(len(same_persona_writers)))"
   ]
  },
  {
   "cell_type": "code",
   "execution_count": 81,
   "metadata": {},
   "outputs": [
    {
     "name": "stdout",
     "output_type": "stream",
     "text": [
      "104335 13\n",
      "1847868 20\n",
      "Length: 5104\n"
     ]
    }
   ],
   "source": [
    "# sorting based on values\n",
    "for i in same_persona_writers:\n",
    "    print(i,same_persona_writers[i],sep=\" \")\n",
    "    break\n",
    "same_persona_writers = sorted(same_persona_writers.items(), key=lambda x: x[1], reverse=True)\n",
    "for i in same_persona_writers:\n",
    "    print(i[0],i[1])\n",
    "    break\n",
    "print(\"Length: \"+str(len(same_persona_writers)))"
   ]
  },
  {
   "cell_type": "markdown",
   "metadata": {},
   "source": [
    "# input movie rating"
   ]
  },
  {
   "cell_type": "code",
   "execution_count": 82,
   "metadata": {},
   "outputs": [
    {
     "data": {
      "text/plain": [
       "7"
      ]
     },
     "execution_count": 82,
     "metadata": {},
     "output_type": "execute_result"
    }
   ],
   "source": [
    "input_movie_rating=[_[\"rating\"] for _ in neo.query(\n",
    "f'''\n",
    "    match(m:movie)  \n",
    "    where m.id =\"{input_movie_id}\"\n",
    "    with m\n",
    "    return m.rating as rating\n",
    "''')]\n",
    "\n",
    "input_movie_rating[0]"
   ]
  },
  {
   "cell_type": "markdown",
   "metadata": {},
   "source": [
    "# movies from these content creators along with rating comparison"
   ]
  },
  {
   "cell_type": "code",
   "execution_count": 83,
   "metadata": {},
   "outputs": [
    {
     "name": "stderr",
     "output_type": "stream",
     "text": [
      "100%|██████████| 500/500 [00:07<00:00, 66.85it/s]"
     ]
    },
    {
     "name": "stdout",
     "output_type": "stream",
     "text": [
      "Length: 32\n"
     ]
    },
    {
     "name": "stderr",
     "output_type": "stream",
     "text": [
      "\n"
     ]
    }
   ],
   "source": [
    "final_movies_list=[]\n",
    "# test=[91515]\n",
    "# for each_creator in test:\n",
    "directors_len=len(same_persona_directors)\n",
    "if(directors_len>500):\n",
    "    directors_len=500\n",
    "for each_creator in tqdm(same_persona_directors[:directors_len]):\n",
    "    query_result=neo.query(f'''\n",
    "        match (d:director)\n",
    "        where d.id ={each_creator[0]}\n",
    "        with d\n",
    "        match (d)-[r:directed]-(m:movie)\n",
    "        with d,m\n",
    "        where m.rating>{input_movie_rating[0]}\n",
    "        and any(x in split(m.genre,\"|\") where x in {input_movie_genres})\n",
    "        return m.id as id\n",
    "    ''')\n",
    "    # print(query_result)\n",
    "    for each_movie in query_result:\n",
    "        final_movies_list.append(each_movie[\"id\"])\n",
    "print(\"Length: \"+str(len(final_movies_list)))"
   ]
  },
  {
   "cell_type": "code",
   "execution_count": 84,
   "metadata": {},
   "outputs": [
    {
     "name": "stderr",
     "output_type": "stream",
     "text": [
      "100%|██████████| 500/500 [00:06<00:00, 71.90it/s]"
     ]
    },
    {
     "name": "stdout",
     "output_type": "stream",
     "text": [
      "Length: 65\n"
     ]
    },
    {
     "name": "stderr",
     "output_type": "stream",
     "text": [
      "\n"
     ]
    }
   ],
   "source": [
    "writers_len=len(same_persona_writers)\n",
    "if(writers_len>500):\n",
    "    writers_len=500\n",
    "for each_creator in tqdm(same_persona_writers[:writers_len]):\n",
    "    query_result=neo.query(f'''\n",
    "        match (w:writer)\n",
    "        where w.id ={each_creator[0]}\n",
    "        with w\n",
    "        match (w)-[r:written]-(m:movie)\n",
    "        with w,m\n",
    "        where m.rating>{input_movie_rating[0]}\n",
    "        and any(x in split(m.genre,\"|\") where x in {input_movie_genres})\n",
    "        return m.id as id\n",
    "    ''')\n",
    "    # print(query_result)\n",
    "    for each_movie in query_result:\n",
    "        final_movies_list.append(each_movie[\"id\"])\n",
    "print(\"Length: \"+str(len(final_movies_list)))"
   ]
  },
  {
   "cell_type": "code",
   "execution_count": 85,
   "metadata": {},
   "outputs": [
    {
     "data": {
      "text/plain": [
       "65"
      ]
     },
     "execution_count": 85,
     "metadata": {},
     "output_type": "execute_result"
    }
   ],
   "source": [
    "l=len(final_movies_list)\n",
    "if(l>1600):\n",
    "    final_movies_list=final_movies_list[:1600]\n",
    "l=len(final_movies_list)\n",
    "l"
   ]
  },
  {
   "cell_type": "markdown",
   "metadata": {},
   "source": [
    "# input movie plot"
   ]
  },
  {
   "cell_type": "code",
   "execution_count": 86,
   "metadata": {},
   "outputs": [
    {
     "data": {
      "text/plain": [
       "'A woman planning to testify against the mob must be protected against their assassins on the train trip from Chicago to Los Angeles.'"
      ]
     },
     "execution_count": 86,
     "metadata": {},
     "output_type": "execute_result"
    }
   ],
   "source": [
    "input_movie_plot=[ _[\"plot\"] for _ in neo.query(f''' \n",
    "            match (m:movie) where m.id=\"{input_movie_id}\"\n",
    "            with m\n",
    "            return m.plot as plot\n",
    "''')]\n",
    "input_movie_plot[0]"
   ]
  },
  {
   "cell_type": "markdown",
   "metadata": {},
   "source": [
    "# context embedings "
   ]
  },
  {
   "cell_type": "code",
   "execution_count": 87,
   "metadata": {},
   "outputs": [],
   "source": [
    "# input movies vector\n",
    "input_movie_vector=get_sentence_embeding([input_movie_plot[0]])"
   ]
  },
  {
   "cell_type": "markdown",
   "metadata": {},
   "source": [
    "# get final movie's plots with their embeddings"
   ]
  },
  {
   "cell_type": "code",
   "execution_count": 88,
   "metadata": {},
   "outputs": [
    {
     "name": "stderr",
     "output_type": "stream",
     "text": [
      "100%|██████████| 65/65 [00:11<00:00,  5.54it/s]"
     ]
    },
    {
     "name": "stdout",
     "output_type": "stream",
     "text": [
      "Length: 65\n"
     ]
    },
    {
     "name": "stderr",
     "output_type": "stream",
     "text": [
      "\n"
     ]
    }
   ],
   "source": [
    "final_movies=dict()\n",
    "if(len(final_movies_list)>150):\n",
    "        final_movies_list=final_movies_list[:150]\n",
    "for each_final_movie_id in tqdm(final_movies_list):\n",
    "    query_result=[ _[\"plot\"] for _ in neo.query(f''' \n",
    "            match(m:movie)\n",
    "            where m.id=\"{each_final_movie_id}\"\n",
    "            with m\n",
    "            return m.plot as plot \n",
    "    ''')]\n",
    "    final_movies[each_final_movie_id]=get_sentence_embeding([query_result[0]])\n",
    "print(\"Length: \"+str(len(final_movies_list)))"
   ]
  },
  {
   "cell_type": "markdown",
   "metadata": {},
   "source": [
    "# cosine sim of movies with their id"
   ]
  },
  {
   "cell_type": "code",
   "execution_count": 89,
   "metadata": {},
   "outputs": [
    {
     "name": "stderr",
     "output_type": "stream",
     "text": [
      "100%|██████████| 57/57 [00:00<00:00, 735.37it/s]"
     ]
    },
    {
     "name": "stdout",
     "output_type": "stream",
     "text": [
      "Length: 57\n"
     ]
    },
    {
     "name": "stderr",
     "output_type": "stream",
     "text": [
      "\n"
     ]
    }
   ],
   "source": [
    "for each_final_movie_id in tqdm(final_movies):\n",
    "    result=cosine_similarity([input_movie_vector[0]],[final_movies[each_final_movie_id][0]])\n",
    "    final_movies[each_final_movie_id]=result[0][0]\n",
    "print(\"Length: \"+str(len(final_movies)))"
   ]
  },
  {
   "cell_type": "markdown",
   "metadata": {},
   "source": [
    "# sorting based on sim"
   ]
  },
  {
   "cell_type": "code",
   "execution_count": 90,
   "metadata": {},
   "outputs": [
    {
     "name": "stdout",
     "output_type": "stream",
     "text": [
      "0.9807118\n"
     ]
    }
   ],
   "source": [
    "for i in final_movies:\n",
    "    print(final_movies[i])\n",
    "    break\n",
    "final_movies = sorted(final_movies.items(), key=lambda x: x[1], reverse=True)"
   ]
  },
  {
   "cell_type": "code",
   "execution_count": 91,
   "metadata": {},
   "outputs": [
    {
     "name": "stdout",
     "output_type": "stream",
     "text": [
      "tt0044837 0.98946136\n"
     ]
    }
   ],
   "source": [
    "for i in final_movies:\n",
    "    print(i[0],i[1])\n",
    "    break"
   ]
  }
 ],
 "metadata": {
  "interpreter": {
   "hash": "6fd0a38be8a8860b32515c0cff9c5c8f8e878e680347cbb001010be9b06be086"
  },
  "kernelspec": {
   "display_name": "Python 3.9.5 64-bit",
   "name": "python3"
  },
  "language_info": {
   "codemirror_mode": {
    "name": "ipython",
    "version": 3
   },
   "file_extension": ".py",
   "mimetype": "text/x-python",
   "name": "python",
   "nbconvert_exporter": "python",
   "pygments_lexer": "ipython3",
   "version": "3.9.5"
  },
  "orig_nbformat": 4
 },
 "nbformat": 4,
 "nbformat_minor": 2
}
