{
 "cells": [
  {
   "cell_type": "markdown",
   "metadata": {},
   "source": [
    "# Must run individually based on work need to be done "
   ]
  },
  {
   "cell_type": "code",
   "execution_count": null,
   "metadata": {},
   "outputs": [],
   "source": [
    "#  CREATE INDEX ID_ACTOR for (n:actor) on (n.id);"
   ]
  },
  {
   "cell_type": "code",
   "execution_count": 34,
   "metadata": {},
   "outputs": [],
   "source": [
    "from neo4j import GraphDatabase\n",
    "from tqdm import tqdm\n",
    "import pandas as pd"
   ]
  },
  {
   "cell_type": "code",
   "execution_count": 36,
   "metadata": {},
   "outputs": [],
   "source": [
    "class Neo4j:\n",
    "    \n",
    "    def __init__(self,uri,user,password):\n",
    "        self.driver = GraphDatabase.driver(uri,auth=(user,password))\n",
    "\n",
    "    def query(self,query):\n",
    "        result=None\n",
    "        with self.driver.session() as session:\n",
    "            result = list(session.run(query))\n",
    "            session.close()\n",
    "        return result\n",
    "    \n",
    "    def createyear(self,args):\n",
    "        with self.driver.session() as session:\n",
    "            session.run(f\"CREATE (m:year $args)\",args=args)\n",
    "            session.close()\n",
    "    def creategenre(self,args):\n",
    "        with self.driver.session() as session:\n",
    "            session.run(f\"CREATE (m:genre $args)\",args=args)\n",
    "            session.close()\n",
    "    def createmovie(self,args):\n",
    "        with self.driver.session() as session:\n",
    "            session.run(f\"CREATE (m:movie $args)\",args=args)\n",
    "            session.close()\n",
    "    def createwriter(self,args):\n",
    "        with self.driver.session() as session:\n",
    "            session.run(f\"CREATE (m:writer $args)\",args=args)\n",
    "            session.close()\n",
    "    def createdirector(self,args):\n",
    "        with self.driver.session() as session:\n",
    "            session.run(f\"CREATE (m:director $args)\",args=args)\n",
    "            session.close()\n",
    "    def createactor(self,args):\n",
    "        with self.driver.session() as session:\n",
    "            session.run(f\"CREATE (m:actor $args)\",args=args)\n",
    "            session.close()\n",
    "    def connectyear(self,year_name,movie_id):\n",
    "        with self.driver.session() as session:\n",
    "            query = f\"\"\"\n",
    "                    MATCH(p:year)\n",
    "                    WHERE p.name = $year_name\n",
    "                    with p\n",
    "                    MATCH (m:movie) \n",
    "                    WHERE m.id = $movie_id\n",
    "                    WITH p,m\n",
    "                    CREATE (m)-[r:`released-in`]->(p)\n",
    "                    RETURN type(r)\n",
    "                    \"\"\"\n",
    "            session.run(query,year_name=year_name,movie_id=movie_id)\n",
    "            session.close()\n",
    "    def connectgenre(self,genre_name,movie_id):\n",
    "        with self.driver.session() as session:\n",
    "            query = f\"\"\"\n",
    "                    MATCH(p:genre)\n",
    "                    WHERE p.name = $genre_name\n",
    "                    with p\n",
    "                    MATCH (m:movie) \n",
    "                    WHERE m.id = $movie_id\n",
    "                    WITH p,m\n",
    "                    CREATE (m)-[r:`genre-type`]->(p)\n",
    "                    RETURN type(r)\n",
    "                    \"\"\"\n",
    "            session.run(query,genre_name=genre_name,movie_id=movie_id)\n",
    "            session.close()\n",
    "    def connectdirector(self,director_id,movie_id):\n",
    "        with self.driver.session() as session:\n",
    "            query = f\"\"\"\n",
    "                    MATCH(p:director)\n",
    "                    WHERE p.id = $director_id\n",
    "                    with p\n",
    "                    MATCH (m:movie) \n",
    "                    WHERE m.id = $movie_id\n",
    "                    WITH p,m\n",
    "                    CREATE (p)-[r:directed]->(m)\n",
    "                    RETURN type(r)\n",
    "                    \"\"\"\n",
    "            session.run(query,director_id=director_id,movie_id=movie_id)\n",
    "            session.close()\n",
    "    def connectwriter(self,writer_id,movie_id):\n",
    "        with self.driver.session() as session:\n",
    "            query = f\"\"\" \n",
    "                    MATCH(p:writer)\n",
    "                    WHERE p.id = $writer_id\n",
    "                    with p\n",
    "                    MATCH (m:movie) \n",
    "                    WHERE m.id = $movie_id\n",
    "                    WITH p,m\n",
    "                    CREATE (p)-[r:written]->(m)\n",
    "                    RETURN type(r)\n",
    "                    \"\"\"\n",
    "            session.run(query,writer_id=writer_id,movie_id=movie_id)\n",
    "            session.close()\n",
    "    def connectactor(self,actor_id,movie_id):\n",
    "        with self.driver.session() as session:\n",
    "            query = f\"\"\"\n",
    "                    MATCH(p:actor)\n",
    "                    WHERE p.id = $actor_id\n",
    "                    with p\n",
    "                    MATCH (m:movie) \n",
    "                    WHERE m.id = $movie_id\n",
    "                    WITH p,m\n",
    "                    CREATE (p)-[r:`acted-in`]->(m)\n",
    "                    RETURN type(r)\"\"\"\n",
    "            # query = f\"\"\"\n",
    "            #         MATCH (p:actor),(m:movie)\n",
    "            #         WHERE p.id = $actor_id AND m.id = $movie_id\n",
    "            #         CREATE (p)-[r:`acted-in`]->(m)\n",
    "            #         RETURN type(r)\"\"\"\n",
    "            session.run(query,actor_id=actor_id,movie_id=movie_id)\n",
    "            session.close()\n",
    "\n",
    "    # def connect(self,user_id,movie_id,rating):\n",
    "    #     with self.driver.session() as session:\n",
    "    #         query = f\"\"\"\n",
    "    #                 MATCH (p:Person),(m:Movie)\n",
    "    #                 WHERE p.user_id = $user_id AND m.movie_id = $movie_id\n",
    "    #                 CREATE (p)-[r:WATCHED]->(m) SET r.rating = $rating\n",
    "    #                 RETURN type(r)\"\"\"\n",
    "    #         session.run(query,user_id=user_id,movie_id=movie_id,rating=rating)\n",
    "    #         session.close()\n",
    "    \n",
    "    def close(self):\n",
    "        self.driver.close()"
   ]
  },
  {
   "cell_type": "code",
   "execution_count": 37,
   "metadata": {},
   "outputs": [],
   "source": [
    "neo = Neo4j(\"bolt://localhost:7687\",\"neo4j\",\"1234\")"
   ]
  },
  {
   "cell_type": "markdown",
   "metadata": {},
   "source": [
    "# Genre nodes Create"
   ]
  },
  {
   "cell_type": "code",
   "execution_count": 23,
   "metadata": {},
   "outputs": [],
   "source": [
    "Gnrs=set()\n",
    "for filenum in range(1,19):\n",
    "    df = pd.read_csv('C:/Users/grpnp/Desktop/Exercise1/DATA_COLLECTING/Movies/results/result'+str(filenum)+'.csv')\n",
    "    genres=df['genre']\n",
    "    for g in range(0,len(genres)):\n",
    "        split_genres=genres[g].split(\"|\")\n",
    "        for splitted_g in split_genres:\n",
    "            Gnrs.add(splitted_g)\n",
    "    # break\n",
    "for each_G in Gnrs:\n",
    "    if(each_G!=\"None\"):\n",
    "        neo.creategenre({\"name\":each_G})"
   ]
  },
  {
   "cell_type": "markdown",
   "metadata": {},
   "source": [
    "# Year nodes Create"
   ]
  },
  {
   "cell_type": "code",
   "execution_count": 24,
   "metadata": {},
   "outputs": [
    {
     "name": "stdout",
     "output_type": "stream",
     "text": [
      "{'1987', '1959', '1916', '1979', '1961', '1968', '1955', '1939', '1947', '1937', '1954', '1906', '2020', '1931', '2005', '2006', '2003', '2007', '1946', '1926', '2011', '1935', '1980', '2014', '1965', '1999', '1932', '1938', '1948', '1977', '1973', '1989', '1915', '1944', '1964', '1911', '1942', '2010', '1929', '1978', '1972', '1984', '1996', '1925', '1969', '1998', '1962', '2002', '2009', '1949', '2021', '1930', '2013', '1970', '1921', '1985', '1919', '1986', '1990', '1967', '1914', '1917', '1994', '1988', '2018', '1983', '1981', '1924', '1940', '1952', '1971', '1963', '1928', '1953', '1927', '1951', '1975', '2017', '1912', '1960', '1974', '2008', '1950', '1958', '1920', '1913', '1945', '2000', '2019', '1934', '1936', '1997', '2004', '2012', '1923', '1933', '1894', '1966', '1941', '1957', '2001', '1922', '2015', '1976', '1991', 'None', '2016', '1992', '1995', '1956', '1918', '1943', '1993', '1982'}\n",
      "114\n"
     ]
    }
   ],
   "source": [
    "Yrs=set()\n",
    "for filenum in range(1,19):\n",
    "    df = pd.read_csv('C:/Users/grpnp/Desktop/Exercise1/DATA_COLLECTING/Movies/results/result'+str(filenum)+'.csv')\n",
    "    years=df['year']\n",
    "    for y in range(0,len(years)):\n",
    "        # split_years=years[y].split(\"|\")\n",
    "        # for splitted_y in split_years:\n",
    "        Yrs.add(str(years[y]))\n",
    "    # break\n",
    "print(Yrs)\n",
    "print(len(Yrs))\n",
    "for each_Y in Yrs:\n",
    "    if(str(each_Y)!=\"None\"):\n",
    "        neo.createyear({\"name\":str(each_Y)})"
   ]
  },
  {
   "cell_type": "markdown",
   "metadata": {},
   "source": [
    "# to get column names of movies"
   ]
  },
  {
   "cell_type": "code",
   "execution_count": 25,
   "metadata": {},
   "outputs": [
    {
     "name": "stdout",
     "output_type": "stream",
     "text": [
      "['id', 'year', 'Movie', 'genre', 'languages', 'rating', 'votings', 'duration', 'Countries', 'plot', 'small cover', 'fullsize cover']\n"
     ]
    }
   ],
   "source": [
    "df = pd.read_csv('C:/Users/grpnp/Desktop/Exercise1/DATA_COLLECTING/Movies/results/result1.csv')\n",
    "columns=[]\n",
    "for i in df.columns:\n",
    "    columns.append(i)\n",
    "columns.pop(0)\n",
    "columns.remove(\"cast\")\n",
    "columns.remove(\"writers\")\n",
    "columns.remove(\"directedBy\")\n",
    "print(columns)"
   ]
  },
  {
   "cell_type": "code",
   "execution_count": 26,
   "metadata": {},
   "outputs": [
    {
     "name": "stderr",
     "output_type": "stream",
     "text": [
      "4999it [00:17, 278.75it/s]\n",
      "5000it [00:13, 374.93it/s]\n",
      "5000it [00:10, 498.42it/s]\n",
      "5000it [00:10, 496.31it/s]\n",
      "5000it [00:10, 459.96it/s]\n",
      "5000it [00:10, 463.45it/s]\n",
      "5000it [00:09, 527.32it/s]\n",
      "5000it [00:11, 454.21it/s]\n",
      "5000it [00:10, 455.14it/s]\n",
      "5000it [00:11, 445.08it/s]\n",
      "5000it [00:10, 456.80it/s]\n",
      "5000it [00:12, 415.08it/s]\n",
      "5000it [00:12, 411.23it/s]\n",
      "5000it [00:12, 398.13it/s]\n",
      "5000it [00:12, 408.14it/s]\n",
      "5000it [00:12, 399.09it/s]\n",
      "5000it [00:12, 390.29it/s]\n",
      "856it [00:02, 410.55it/s]\n"
     ]
    }
   ],
   "source": [
    "for filenum in range(1,19):\n",
    "    df = pd.read_csv('C:/Users/grpnp/Desktop/Exercise1/DATA_COLLECTING/Movies/results/result'+str(filenum)+'.csv')\n",
    "    # print(df['id'][0])\n",
    "    for row in tqdm(df.iterrows()):\n",
    "        args={}\n",
    "        for i in columns:\n",
    "            args[i]=row[1][i]\n",
    "        neo.createmovie(args)\n",
    "        # break"
   ]
  },
  {
   "cell_type": "markdown",
   "metadata": {},
   "source": [
    "# to get column names of writers"
   ]
  },
  {
   "cell_type": "code",
   "execution_count": 27,
   "metadata": {},
   "outputs": [
    {
     "name": "stdout",
     "output_type": "stream",
     "text": [
      "['id', 'name', 'Birth Date', 'Birth Notes', 'Biography', 'Trivia', 'Quotes', 'Headshot', 'Full-size Headshot']\n"
     ]
    }
   ],
   "source": [
    "df = pd.read_csv('C:/Users/grpnp/Desktop/Exercise1/DATA_COLLECTING/Writers/results/Writers1.csv')\n",
    "columns=[]\n",
    "for i in df.columns:\n",
    "    columns.append(i)\n",
    "columns.pop(0)\n",
    "print(columns)"
   ]
  },
  {
   "cell_type": "code",
   "execution_count": 28,
   "metadata": {},
   "outputs": [
    {
     "name": "stderr",
     "output_type": "stream",
     "text": [
      "4999it [00:11, 422.71it/s]\n",
      "5000it [00:10, 468.19it/s]\n",
      "5000it [00:11, 451.22it/s]\n",
      "5000it [00:11, 444.17it/s]\n",
      "5000it [00:11, 441.42it/s]\n",
      "5000it [00:10, 490.94it/s]\n",
      "5000it [00:11, 452.31it/s]\n",
      "5000it [00:11, 445.77it/s]\n",
      "5000it [00:10, 477.62it/s]\n",
      "5000it [00:11, 452.88it/s]\n",
      "4999it [00:09, 515.82it/s]\n",
      "5000it [00:10, 497.58it/s]\n",
      "5000it [00:10, 467.27it/s]\n",
      "5000it [00:11, 434.69it/s]\n",
      "5000it [00:11, 436.61it/s]\n",
      "3840it [00:08, 450.63it/s]\n"
     ]
    }
   ],
   "source": [
    "for filenum in range(1,17):\n",
    "    df = pd.read_csv('C:/Users/grpnp/Desktop/Exercise1/DATA_COLLECTING/Writers/results/Writers'+str(filenum)+'.csv')\n",
    "    # print(df['id'][0])\n",
    "    for row in tqdm(df.iterrows()):\n",
    "        args={}\n",
    "        for i in columns:\n",
    "            args[i]=row[1][i]\n",
    "        neo.createwriter(args)"
   ]
  },
  {
   "cell_type": "markdown",
   "metadata": {},
   "source": [
    "# to get columns for directors"
   ]
  },
  {
   "cell_type": "code",
   "execution_count": 29,
   "metadata": {},
   "outputs": [
    {
     "name": "stdout",
     "output_type": "stream",
     "text": [
      "['id', 'name', 'Birth Date', 'Birth Notes', 'Biography', 'Trivia', 'Quotes', 'Headshot', 'Full-size Headshot']\n"
     ]
    }
   ],
   "source": [
    "df = pd.read_csv('C:/Users/grpnp/Desktop/Exercise1/DATA_COLLECTING/Directors/results/Directors1.csv')\n",
    "columns=[]\n",
    "for i in df.columns:\n",
    "    columns.append(i)\n",
    "columns.pop(0)\n",
    "print(columns)"
   ]
  },
  {
   "cell_type": "code",
   "execution_count": 30,
   "metadata": {},
   "outputs": [
    {
     "name": "stderr",
     "output_type": "stream",
     "text": [
      "4999it [00:11, 436.44it/s]\n",
      "5000it [00:10, 468.16it/s]\n",
      "5000it [00:10, 467.99it/s]\n",
      "5000it [00:11, 434.82it/s]\n",
      "5000it [00:11, 451.24it/s]\n",
      "5000it [00:10, 498.26it/s]\n",
      "4999it [00:10, 484.96it/s]\n",
      "1640it [00:03, 468.17it/s]\n"
     ]
    }
   ],
   "source": [
    "for filenum in range(1,9):\n",
    "    df = pd.read_csv('C:/Users/grpnp/Desktop/Exercise1/DATA_COLLECTING/Directors/results/Directors'+str(filenum)+'.csv')\n",
    "    # print(df['id'][0])\n",
    "    for row in tqdm(df.iterrows()):\n",
    "        args={}\n",
    "        for i in columns:\n",
    "            args[i]=row[1][i]\n",
    "        neo.createdirector(args)"
   ]
  },
  {
   "cell_type": "markdown",
   "metadata": {},
   "source": [
    "# to get columns for cast"
   ]
  },
  {
   "cell_type": "code",
   "execution_count": 32,
   "metadata": {},
   "outputs": [
    {
     "name": "stdout",
     "output_type": "stream",
     "text": [
      "['id', 'name', 'Birth Date', 'Birth Notes', 'Biography', 'Trivia', 'Quotes', 'Headshot', 'Full-size Headshot']\n"
     ]
    }
   ],
   "source": [
    "df = pd.read_csv('C:/Users/grpnp/Desktop/Exercise1/DATA_COLLECTING/Cast/results/cast1.csv')\n",
    "columns=[]\n",
    "for i in df.columns:\n",
    "    columns.append(i)\n",
    "columns.pop(0)\n",
    "print(columns)"
   ]
  },
  {
   "cell_type": "code",
   "execution_count": 33,
   "metadata": {},
   "outputs": [
    {
     "name": "stderr",
     "output_type": "stream",
     "text": [
      "5000it [00:10, 463.18it/s]\n",
      "5000it [00:10, 458.00it/s]\n",
      "5000it [00:10, 472.12it/s]\n",
      "5000it [00:09, 548.06it/s]\n",
      "5000it [00:09, 520.14it/s]\n",
      "5000it [00:09, 508.49it/s]\n",
      "5000it [00:09, 510.73it/s]\n",
      "5000it [00:10, 495.54it/s]\n",
      "5000it [00:11, 426.33it/s]\n",
      "5000it [00:13, 365.76it/s]\n",
      "5000it [00:11, 441.62it/s]\n",
      "5000it [00:10, 455.11it/s]\n",
      "5000it [00:11, 452.55it/s]\n",
      "5000it [00:11, 437.57it/s]\n",
      "5000it [00:11, 420.38it/s]\n",
      "5000it [00:11, 423.30it/s]\n",
      "5000it [00:12, 391.86it/s]\n",
      "5000it [00:12, 411.85it/s]\n",
      "5000it [00:10, 465.55it/s]\n",
      "5000it [00:10, 474.88it/s]\n",
      "5000it [00:10, 480.46it/s]\n",
      "5000it [00:09, 501.00it/s]\n",
      "5000it [00:10, 497.36it/s]\n",
      "5000it [00:10, 486.00it/s]\n",
      "5000it [00:10, 492.90it/s]\n",
      "5000it [00:10, 457.24it/s]\n",
      "5000it [00:11, 448.18it/s]\n",
      "5000it [00:09, 502.01it/s]\n",
      "5000it [00:10, 493.28it/s]\n",
      "5000it [00:10, 499.11it/s]\n",
      "5000it [00:10, 496.79it/s]\n",
      "5000it [00:10, 456.64it/s]\n",
      "5000it [00:09, 506.32it/s]\n",
      "5000it [00:09, 503.47it/s]\n",
      "5000it [00:09, 501.35it/s]\n",
      "5000it [00:10, 493.70it/s]\n",
      "5000it [00:10, 491.21it/s]\n",
      "5000it [00:10, 481.94it/s]\n",
      "5000it [00:09, 503.45it/s]\n",
      "5000it [00:10, 494.62it/s]\n",
      "5000it [00:10, 463.80it/s]\n",
      "5000it [00:10, 491.26it/s]\n",
      "5000it [00:09, 505.07it/s]\n",
      "5000it [00:09, 500.12it/s]\n",
      "5000it [00:09, 504.79it/s]\n",
      "5000it [00:10, 493.82it/s]\n",
      "5000it [00:10, 494.81it/s]\n",
      "5000it [00:10, 486.60it/s]\n",
      "5000it [00:10, 496.58it/s]\n",
      "5000it [00:10, 494.34it/s]\n",
      "5000it [00:10, 481.01it/s]\n",
      "5000it [00:11, 449.71it/s]\n",
      "5000it [00:10, 454.99it/s]\n",
      "5000it [00:09, 502.22it/s]\n",
      "5000it [00:09, 500.41it/s]\n",
      "5000it [00:09, 512.22it/s]\n",
      "5000it [00:09, 509.14it/s]\n",
      "5000it [00:10, 493.51it/s]\n",
      "5000it [00:09, 507.22it/s]\n",
      "5000it [00:09, 507.99it/s]\n",
      "5000it [00:09, 502.48it/s]\n",
      "5000it [00:10, 495.17it/s]\n",
      "5000it [00:10, 491.20it/s]\n",
      "5000it [00:10, 485.87it/s]\n",
      "5000it [00:10, 463.16it/s]\n",
      "5000it [00:09, 514.42it/s]\n",
      "5000it [00:09, 510.56it/s]\n",
      "5000it [00:09, 509.43it/s]\n",
      "5000it [00:09, 503.94it/s]\n",
      "5000it [00:10, 495.47it/s]\n",
      "5000it [00:09, 505.35it/s]\n",
      "5000it [00:09, 503.47it/s]\n",
      "5000it [00:09, 504.85it/s]\n",
      "5000it [00:09, 506.84it/s]\n",
      "5000it [00:09, 506.99it/s]\n",
      "5000it [00:09, 503.25it/s]\n",
      "5000it [00:09, 507.14it/s]\n",
      "5000it [00:09, 506.90it/s]\n",
      "5000it [00:10, 479.67it/s]\n",
      "5000it [00:10, 470.72it/s]\n",
      "5000it [00:10, 488.17it/s]\n",
      "5000it [00:10, 472.96it/s]\n",
      "5000it [00:10, 489.20it/s]\n",
      "5000it [00:09, 508.04it/s]\n",
      "5000it [00:10, 487.40it/s]\n",
      "5000it [00:10, 497.22it/s]\n",
      "5000it [00:10, 487.94it/s]\n",
      "5000it [00:10, 474.70it/s]\n",
      "5000it [00:10, 463.69it/s]\n",
      "5000it [00:09, 502.53it/s]\n",
      "5000it [00:09, 507.53it/s]\n",
      "5000it [00:09, 503.28it/s]\n",
      "5000it [00:09, 505.31it/s]\n",
      "5000it [00:09, 501.61it/s]\n",
      "5000it [00:09, 510.15it/s]\n",
      "5000it [00:09, 514.47it/s]\n",
      "5000it [00:09, 507.22it/s]\n",
      "5000it [00:09, 510.61it/s]\n",
      "5000it [00:09, 503.82it/s]\n",
      "5000it [00:10, 491.79it/s]\n",
      "5000it [00:11, 438.25it/s]\n",
      "5000it [00:10, 491.78it/s]\n",
      "5000it [00:10, 479.73it/s]\n",
      "5000it [00:11, 443.64it/s]\n",
      "5000it [00:09, 514.50it/s]\n",
      "5000it [00:09, 528.29it/s]\n",
      "5000it [00:09, 528.33it/s]\n",
      "5000it [00:09, 519.93it/s]\n",
      "5000it [00:09, 524.96it/s]\n",
      "5000it [00:09, 529.13it/s]\n",
      "5000it [00:09, 528.71it/s]\n",
      "5000it [00:10, 468.31it/s]\n",
      "5000it [00:09, 533.85it/s]\n",
      "5000it [00:09, 532.17it/s]\n",
      "5000it [00:09, 521.49it/s]\n",
      "5000it [00:09, 525.71it/s]\n",
      "5000it [00:09, 528.50it/s]\n",
      "5000it [00:09, 516.50it/s]\n",
      "5000it [00:09, 528.90it/s]\n",
      "5000it [00:09, 527.04it/s]\n",
      "5000it [00:09, 516.66it/s]\n",
      "5000it [00:09, 524.90it/s]\n",
      "5000it [00:09, 521.59it/s]\n",
      "5000it [00:09, 510.80it/s]\n",
      "5000it [00:10, 472.10it/s]\n",
      "5000it [00:09, 525.48it/s]\n",
      "5000it [00:09, 528.70it/s]\n",
      "5000it [00:09, 522.75it/s]\n",
      "5000it [00:09, 525.84it/s]\n",
      "5000it [00:09, 522.21it/s]\n",
      "5000it [00:09, 529.62it/s]\n",
      "5000it [00:09, 525.53it/s]\n",
      "5000it [00:09, 522.82it/s]\n",
      "5000it [00:09, 521.36it/s]\n",
      "5000it [00:09, 522.06it/s]\n",
      "5000it [00:09, 520.61it/s]\n",
      "5000it [00:09, 523.27it/s]\n",
      "5000it [00:09, 525.65it/s]\n",
      "5000it [00:09, 519.12it/s]\n",
      "5000it [00:10, 475.85it/s]\n",
      "5000it [00:10, 483.64it/s]\n",
      "5000it [00:09, 512.50it/s]\n",
      "4999it [00:11, 439.40it/s]\n",
      "5000it [00:10, 495.99it/s]\n",
      "5000it [00:12, 414.86it/s]\n",
      "5000it [00:10, 475.85it/s]\n",
      "5000it [00:09, 527.06it/s]\n",
      "5000it [00:09, 523.88it/s]\n",
      "5000it [00:09, 519.75it/s]\n",
      "5000it [00:09, 525.21it/s]\n",
      "5000it [00:09, 523.17it/s]\n",
      "5000it [00:09, 519.40it/s]\n",
      "5000it [00:09, 518.03it/s]\n",
      "5000it [00:09, 520.07it/s]\n",
      "5000it [00:09, 521.32it/s]\n",
      "5000it [00:09, 524.16it/s]\n",
      "5000it [00:09, 524.05it/s]\n",
      "5000it [00:10, 485.95it/s]\n",
      "5000it [00:09, 517.44it/s]\n",
      "5000it [00:09, 522.38it/s]\n",
      "5000it [00:09, 518.24it/s]\n",
      "5000it [00:14, 335.33it/s]\n",
      "5000it [00:09, 537.40it/s]\n",
      "5000it [00:09, 515.64it/s]\n",
      "5000it [00:10, 480.54it/s]\n",
      "5000it [00:09, 517.93it/s]\n",
      "5000it [00:09, 524.68it/s]\n",
      "5000it [00:09, 512.30it/s]\n",
      "5000it [00:09, 524.55it/s]\n",
      "5000it [00:10, 477.73it/s]\n",
      "5000it [00:09, 530.87it/s]\n",
      "5000it [00:09, 523.38it/s]\n",
      "5000it [00:09, 519.26it/s]\n",
      "5000it [00:09, 524.27it/s]\n",
      "5000it [00:09, 522.58it/s]\n",
      "5000it [00:09, 510.67it/s]\n",
      "5000it [00:09, 522.36it/s]\n",
      "5000it [00:10, 493.34it/s]\n",
      "5000it [00:10, 468.14it/s]\n",
      "5000it [00:10, 487.49it/s]\n",
      "5000it [00:09, 522.79it/s]\n",
      "5000it [00:09, 517.12it/s]\n",
      "5000it [00:10, 484.45it/s]\n",
      "5000it [00:09, 529.49it/s]\n",
      "5000it [00:11, 451.34it/s]\n",
      "5000it [00:11, 424.24it/s]\n",
      "5000it [00:10, 458.81it/s]\n",
      "5000it [00:11, 432.95it/s]\n",
      "5000it [00:12, 411.74it/s]\n",
      "5000it [00:11, 417.15it/s]\n",
      "5000it [00:11, 442.46it/s]\n",
      "5000it [00:10, 465.80it/s]\n",
      "5000it [00:10, 461.17it/s]\n",
      "5000it [00:11, 439.64it/s]\n",
      "5000it [00:11, 432.02it/s]\n",
      "5000it [00:10, 459.26it/s]\n",
      "5000it [00:09, 521.02it/s]\n",
      "5000it [00:09, 523.29it/s]\n",
      "5000it [00:09, 524.49it/s]\n",
      "5000it [00:09, 524.16it/s]\n",
      "5000it [00:09, 521.32it/s]\n",
      "5000it [00:09, 524.91it/s]\n",
      "5000it [00:09, 523.23it/s]\n",
      "5000it [00:09, 523.70it/s]\n",
      "5000it [00:09, 516.34it/s]\n",
      "5000it [00:09, 503.50it/s]\n",
      "5000it [00:10, 485.49it/s]\n",
      "5000it [00:09, 528.90it/s]\n",
      "5000it [00:09, 524.30it/s]\n",
      "5000it [00:09, 523.34it/s]\n",
      "5000it [00:09, 518.64it/s]\n",
      "5000it [00:09, 519.75it/s]\n",
      "5000it [00:09, 516.85it/s]\n",
      "5000it [00:09, 520.13it/s]\n",
      "5000it [00:09, 518.64it/s]\n",
      "5000it [00:09, 524.85it/s]\n",
      "5000it [00:09, 514.77it/s]\n",
      "2808it [00:05, 523.29it/s]\n"
     ]
    }
   ],
   "source": [
    "for filenum in range(1,219):\n",
    "    df = pd.read_csv('C:/Users/grpnp/Desktop/Exercise1/DATA_COLLECTING/Cast/results/cast'+str(filenum)+'.csv')\n",
    "    # print(df['id'][0])\n",
    "    for row in tqdm(df.iterrows()):\n",
    "        args={}\n",
    "        for i in columns:\n",
    "            args[i]=row[1][i]\n",
    "        neo.createactor(args)"
   ]
  },
  {
   "cell_type": "markdown",
   "metadata": {},
   "source": [
    "# Relations at Once"
   ]
  },
  {
   "cell_type": "code",
   "execution_count": 43,
   "metadata": {},
   "outputs": [
    {
     "data": {
      "text/plain": [
       "61"
      ]
     },
     "execution_count": 43,
     "metadata": {},
     "output_type": "execute_result"
    }
   ],
   "source": [
    "p=\"\"\n",
    "p=p.split(\"|\")\n",
    "s=set(p)\n",
    "len(s)"
   ]
  },
  {
   "cell_type": "code",
   "execution_count": 40,
   "metadata": {},
   "outputs": [
    {
     "name": "stderr",
     "output_type": "stream",
     "text": [
      "100%|██████████| 5000/5000 [05:40<00:00, 14.69it/s]\n",
      "100%|██████████| 5000/5000 [05:47<00:00, 14.40it/s]\n",
      "100%|██████████| 5000/5000 [05:23<00:00, 15.47it/s]\n",
      "100%|██████████| 5000/5000 [04:59<00:00, 16.72it/s]\n",
      "100%|██████████| 5000/5000 [05:20<00:00, 15.58it/s]\n",
      "100%|██████████| 5000/5000 [05:39<00:00, 14.72it/s]\n",
      "100%|██████████| 5000/5000 [05:36<00:00, 14.88it/s]\n",
      "100%|██████████| 5000/5000 [05:41<00:00, 14.65it/s]\n",
      "100%|██████████| 5000/5000 [05:41<00:00, 14.65it/s]\n",
      "100%|██████████| 5000/5000 [05:29<00:00, 15.19it/s]\n",
      "100%|██████████| 5000/5000 [05:34<00:00, 14.96it/s]\n",
      "100%|██████████| 5000/5000 [11:02<00:00,  7.55it/s]\n",
      "100%|██████████| 5000/5000 [05:00<00:00, 16.63it/s]\n",
      "100%|██████████| 856/856 [00:49<00:00, 17.32it/s]\n"
     ]
    }
   ],
   "source": [
    "for filenum in range(5,19):   \n",
    "    df = pd.read_csv('C:/Users/grpnp/Desktop/Exercise1/DATA_COLLECTING/Movies/results/result'+str(filenum)+'.csv')\n",
    "    movies_ids=df['id']\n",
    "    year=df[\"year\"]\n",
    "    genres=df[\"genre\"]\n",
    "    directors_ids=df['directedBy']\n",
    "    writers_ids=df['writers']\n",
    "    cast_ids=df['cast']\n",
    "    for i in tqdm(range(0,len(movies_ids))):\n",
    "        movie_id=movies_ids[i]\n",
    "        #year\n",
    "        year_name=str(year[i])\n",
    "        if(year_name!=\"None\"):\n",
    "            neo.connectyear(str(year[i]),movie_id)\n",
    "        #genre    \n",
    "        genre_set=set()\n",
    "        for genre in genres[i].split(\"|\"):\n",
    "            if(genre!=\"None\"):\n",
    "                genre_set.add(genre)\n",
    "        for u_genre in genre_set:\n",
    "            neo.connectgenre(u_genre,movie_id)\n",
    "        #director\n",
    "        director_set=set()\n",
    "        for director in directors_ids[i].split(\"|\"):\n",
    "            if(director!=\"None\"):\n",
    "                director_set.add(int(director))\n",
    "        for u_director in director_set:\n",
    "            neo.connectdirector(u_director,movie_id)\n",
    "        # #writer\n",
    "        writer_set=set()\n",
    "        for writer in writers_ids[i].split(\"|\"):\n",
    "            if(writer!=\"None\"):\n",
    "                writer_set.add(int(writer))\n",
    "        for u_writer in writer_set:\n",
    "            neo.connectwriter(u_writer,movie_id)\n",
    "        #cast\n",
    "        cast_set=set()\n",
    "        for cast in cast_ids[i].split(\"|\"):\n",
    "            if(cast!=\"None\"):\n",
    "                cast_set.add(int(cast))\n",
    "        for u_cast in cast_set:\n",
    "            neo.connectactor(u_cast,movie_id)\n"
   ]
  },
  {
   "cell_type": "code",
   "execution_count": 1,
   "metadata": {},
   "outputs": [
    {
     "ename": "NameError",
     "evalue": "name 'neo' is not defined",
     "output_type": "error",
     "traceback": [
      "\u001b[1;31m---------------------------------------------------------------------------\u001b[0m",
      "\u001b[1;31mNameError\u001b[0m                                 Traceback (most recent call last)",
      "\u001b[1;32m<ipython-input-1-e5e80ec9ed9f>\u001b[0m in \u001b[0;36m<module>\u001b[1;34m\u001b[0m\n\u001b[1;32m----> 1\u001b[1;33m \u001b[0mneo\u001b[0m\u001b[1;33m.\u001b[0m\u001b[0mclose\u001b[0m\u001b[1;33m(\u001b[0m\u001b[1;33m)\u001b[0m\u001b[1;33m\u001b[0m\u001b[1;33m\u001b[0m\u001b[0m\n\u001b[0m",
      "\u001b[1;31mNameError\u001b[0m: name 'neo' is not defined"
     ]
    }
   ],
   "source": [
    "neo.close()"
   ]
  },
  {
   "cell_type": "markdown",
   "metadata": {},
   "source": [
    "# delete duplicate\n",
    "MATCH (g:director) \n",
    "WITH g.id as id, collect(g) AS nodes \n",
    "WHERE size(nodes) >  1\n",
    "FOREACH (g in tail(nodes) | DELETE g)"
   ]
  },
  {
   "cell_type": "markdown",
   "metadata": {},
   "source": [
    "Movie: Home, Sweet Home"
   ]
  }
 ],
 "metadata": {
  "interpreter": {
   "hash": "6fd0a38be8a8860b32515c0cff9c5c8f8e878e680347cbb001010be9b06be086"
  },
  "kernelspec": {
   "display_name": "Python 3.9.5 64-bit",
   "name": "python3"
  },
  "language_info": {
   "codemirror_mode": {
    "name": "ipython",
    "version": 3
   },
   "file_extension": ".py",
   "mimetype": "text/x-python",
   "name": "python",
   "nbconvert_exporter": "python",
   "pygments_lexer": "ipython3",
   "version": "3.9.5"
  }
 },
 "nbformat": 4,
 "nbformat_minor": 4
}
