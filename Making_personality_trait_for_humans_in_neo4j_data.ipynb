{
 "cells": [
  {
   "cell_type": "code",
   "execution_count": 1,
   "metadata": {},
   "outputs": [],
   "source": [
    "from neo4j import GraphDatabase\n",
    "from tqdm import tqdm\n",
    "import pandas as pd\n",
    "\n",
    "class Neo4j:\n",
    "    def __init__(self,uri,user,password):\n",
    "        self.driver = GraphDatabase.driver(uri,auth=(user,password))\n",
    "\n",
    "    def query(self,query):\n",
    "        result=None\n",
    "        with self.driver.session() as session:\n",
    "            result = list(session.run(query))\n",
    "            session.close()\n",
    "        return result\n",
    "    def close(self):\n",
    "        self.driver.close()\n",
    "\n",
    "neo = Neo4j(\"bolt://localhost:7687\",\"neo4j\",\"1234\")"
   ]
  },
  {
   "cell_type": "code",
   "execution_count": 2,
   "metadata": {},
   "outputs": [
    {
     "data": {
      "text/plain": [
       "['Action',\n",
       " 'Adult',\n",
       " 'Adventure',\n",
       " 'Animation',\n",
       " 'Biography',\n",
       " 'Comedy',\n",
       " 'Crime',\n",
       " 'Documentary',\n",
       " 'Drama',\n",
       " 'Family',\n",
       " 'Fantasy',\n",
       " 'Film-Noir',\n",
       " 'History',\n",
       " 'Horror',\n",
       " 'Music',\n",
       " 'Musical',\n",
       " 'Mystery',\n",
       " 'Reality-TV',\n",
       " 'Romance',\n",
       " 'Sci-Fi',\n",
       " 'Short',\n",
       " 'Sport',\n",
       " 'Thriller',\n",
       " 'War',\n",
       " 'Western']"
      ]
     },
     "execution_count": 2,
     "metadata": {},
     "output_type": "execute_result"
    }
   ],
   "source": [
    "# Geting all genres \n",
    "all_genres=[_['name']  for _ in neo.query(f''' \n",
    "    MATCH (g:genre) RETURN g.name as name\n",
    "''')]\n",
    "all_genres.sort()\n",
    "all_genres"
   ]
  },
  {
   "cell_type": "markdown",
   "metadata": {},
   "source": [
    "# For Writers"
   ]
  },
  {
   "cell_type": "code",
   "execution_count": 3,
   "metadata": {},
   "outputs": [
    {
     "name": "stdout",
     "output_type": "stream",
     "text": [
      "Length: 78648\n",
      "2779808\n"
     ]
    }
   ],
   "source": [
    "all_writers_ids=[_[\"id\"] for _ in neo.query(f'''\n",
    "    match(w:writer) \n",
    "    with w\n",
    "    return w.id as id\n",
    "    ''')]\n",
    "print(\"Length: \" +str(len(all_writers_ids)))\n",
    "print(all_writers_ids[0])"
   ]
  },
  {
   "cell_type": "code",
   "execution_count": 4,
   "metadata": {},
   "outputs": [
    {
     "name": "stderr",
     "output_type": "stream",
     "text": [
      "100%|██████████| 78648/78648 [4:55:58<00:00,  4.43it/s]\n"
     ]
    }
   ],
   "source": [
    "for each_id in tqdm(all_writers_ids):\n",
    "\n",
    "    query_result=neo.query(f''' match(w:writer) where w.id={each_id}\n",
    "                    with w\n",
    "                    match (w)-[r:written]-(m:movie)\n",
    "                    with w,m\n",
    "                    return m.genre as genre\n",
    "                    ''')\n",
    "    personality_trait=dict()\n",
    "    for g in all_genres:\n",
    "        personality_trait[g]=personality_trait.get(g,-1)+1\n",
    "    for each in query_result:\n",
    "        for e in each[\"genre\"].split(\"|\"):\n",
    "            personality_trait[e]=personality_trait.get(e,0)+1\n",
    "    sum=0\n",
    "    for i in personality_trait:\n",
    "        sum=sum+personality_trait[i]\n",
    "    # print(sum)\n",
    "    for i in personality_trait:\n",
    "        personality_trait[i]=int(personality_trait[i]*100/sum)\n",
    "    # print(personality_trait)\n",
    "    for each_key in personality_trait:\n",
    "        # print(each_key)\n",
    "        field=each_key\n",
    "        if(each_key==\"Film-Noir\"):\n",
    "            field=\"FilmNoir\"\n",
    "        elif(each_key==\"Sci-Fi\"):\n",
    "            field=\"SciFi\"\n",
    "        elif(each_key==\"Reality-TV\"):\n",
    "            field=\"RealityTV\"\n",
    "        # print(each_id,personality_trait[each_key])\n",
    "        s= neo.query(f''' \n",
    "                match(w:writer) where w.id={each_id} set w.{field+\"_trait\"}={personality_trait[each_key]} return w\n",
    "        ''')"
   ]
  },
  {
   "cell_type": "markdown",
   "metadata": {},
   "source": [
    "# For Directors"
   ]
  },
  {
   "cell_type": "code",
   "execution_count": null,
   "metadata": {},
   "outputs": [],
   "source": [
    "all_directors_ids=[_[\"id\"] for _ in neo.query(f'''\n",
    "    match(d:director) \n",
    "    with d\n",
    "    return d.id as id\n",
    "    ''')]\n",
    "print(\"Length: \" +str(len(all_directors_ids)))\n",
    "print(all_directors_ids[0])"
   ]
  },
  {
   "cell_type": "code",
   "execution_count": 149,
   "metadata": {},
   "outputs": [
    {
     "name": "stderr",
     "output_type": "stream",
     "text": [
      "100%|██████████| 36123/36123 [2:20:17<00:00,  4.29it/s]\n"
     ]
    }
   ],
   "source": [
    "for each_id in tqdm(all_directors_ids):\n",
    "\n",
    "    query_result=neo.query(f''' match(d:director) where d.id={each_id}\n",
    "                    with d \n",
    "                    match (d)-[r:directed]-(m:movie)\n",
    "                    with d,m\n",
    "                    return m.genre as genre\n",
    "                    ''')\n",
    "    personality_trait=dict()\n",
    "    for g in all_genres:\n",
    "        personality_trait[g]=personality_trait.get(g,-1)+1\n",
    "    for each in query_result:\n",
    "        for e in each[\"genre\"].split(\"|\"):\n",
    "            personality_trait[e]=personality_trait.get(e,0)+1\n",
    "    sum=0\n",
    "    for i in personality_trait:\n",
    "        sum=sum+personality_trait[i]\n",
    "    # print(sum)\n",
    "    for i in personality_trait:\n",
    "        personality_trait[i]=int(personality_trait[i]*100/sum)\n",
    "    # print(personality_trait)\n",
    "    for each_key in personality_trait:\n",
    "        # print(each_key)\n",
    "        field=each_key\n",
    "        if(each_key==\"Film-Noir\"):\n",
    "            field=\"FilmNoir\"\n",
    "        elif(each_key==\"Sci-Fi\"):\n",
    "            field=\"SciFi\"\n",
    "        elif(each_key==\"Reality-TV\"):\n",
    "            field=\"RealityTV\"\n",
    "\n",
    "        s= neo.query(f''' \n",
    "                match(d:director) where d.id={each_id} set d.{field+\"_trait\"}={personality_trait[each_key]} return d\n",
    "        ''')\n",
    "    # break"
   ]
  }
 ],
 "metadata": {
  "interpreter": {
   "hash": "6fd0a38be8a8860b32515c0cff9c5c8f8e878e680347cbb001010be9b06be086"
  },
  "kernelspec": {
   "display_name": "Python 3.9.5 64-bit",
   "language": "python",
   "name": "python3"
  },
  "language_info": {
   "codemirror_mode": {
    "name": "ipython",
    "version": 3
   },
   "file_extension": ".py",
   "mimetype": "text/x-python",
   "name": "python",
   "nbconvert_exporter": "python",
   "pygments_lexer": "ipython3",
   "version": "3.9.5"
  },
  "orig_nbformat": 4
 },
 "nbformat": 4,
 "nbformat_minor": 2
}
