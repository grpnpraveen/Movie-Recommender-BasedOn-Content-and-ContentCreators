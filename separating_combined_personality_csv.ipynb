{
 "cells": [
  {
   "cell_type": "code",
   "execution_count": 23,
   "metadata": {},
   "outputs": [],
   "source": [
    "import pandas as pd\n",
    "\n",
    "df=pd.read_csv(\"personality_trainaing_dataset/combined_essays_mypersonality.csv\")\n",
    "save_path=\"SeparateExcel_For_personality_training/\""
   ]
  },
  {
   "cell_type": "code",
   "execution_count": 24,
   "metadata": {},
   "outputs": [
    {
     "data": {
      "text/html": [
       "<div>\n",
       "<style scoped>\n",
       "    .dataframe tbody tr th:only-of-type {\n",
       "        vertical-align: middle;\n",
       "    }\n",
       "\n",
       "    .dataframe tbody tr th {\n",
       "        vertical-align: top;\n",
       "    }\n",
       "\n",
       "    .dataframe thead th {\n",
       "        text-align: right;\n",
       "    }\n",
       "</style>\n",
       "<table border=\"1\" class=\"dataframe\">\n",
       "  <thead>\n",
       "    <tr style=\"text-align: right;\">\n",
       "      <th></th>\n",
       "      <th>#AUTHID</th>\n",
       "      <th>TEXT</th>\n",
       "      <th>cEXT</th>\n",
       "      <th>cNEU</th>\n",
       "      <th>cAGR</th>\n",
       "      <th>cCON</th>\n",
       "      <th>cOPN</th>\n",
       "    </tr>\n",
       "  </thead>\n",
       "  <tbody>\n",
       "    <tr>\n",
       "      <th>0</th>\n",
       "      <td>b7b7764cfa1c523e4e93ab2a79a946c4</td>\n",
       "      <td>likes the sound of thunder.</td>\n",
       "      <td>n</td>\n",
       "      <td>y</td>\n",
       "      <td>n</td>\n",
       "      <td>n</td>\n",
       "      <td>y</td>\n",
       "    </tr>\n",
       "    <tr>\n",
       "      <th>1</th>\n",
       "      <td>b7b7764cfa1c523e4e93ab2a79a946c4</td>\n",
       "      <td>is so sleepy it's not even funny that's she ca...</td>\n",
       "      <td>n</td>\n",
       "      <td>y</td>\n",
       "      <td>n</td>\n",
       "      <td>n</td>\n",
       "      <td>y</td>\n",
       "    </tr>\n",
       "    <tr>\n",
       "      <th>2</th>\n",
       "      <td>b7b7764cfa1c523e4e93ab2a79a946c4</td>\n",
       "      <td>is sore and wants the knot of muscles at the b...</td>\n",
       "      <td>n</td>\n",
       "      <td>y</td>\n",
       "      <td>n</td>\n",
       "      <td>n</td>\n",
       "      <td>y</td>\n",
       "    </tr>\n",
       "    <tr>\n",
       "      <th>3</th>\n",
       "      <td>b7b7764cfa1c523e4e93ab2a79a946c4</td>\n",
       "      <td>likes how the day sounds in this new song.</td>\n",
       "      <td>n</td>\n",
       "      <td>y</td>\n",
       "      <td>n</td>\n",
       "      <td>n</td>\n",
       "      <td>y</td>\n",
       "    </tr>\n",
       "    <tr>\n",
       "      <th>4</th>\n",
       "      <td>b7b7764cfa1c523e4e93ab2a79a946c4</td>\n",
       "      <td>is home. &lt;3</td>\n",
       "      <td>n</td>\n",
       "      <td>y</td>\n",
       "      <td>n</td>\n",
       "      <td>n</td>\n",
       "      <td>y</td>\n",
       "    </tr>\n",
       "  </tbody>\n",
       "</table>\n",
       "</div>"
      ],
      "text/plain": [
       "                            #AUTHID  \\\n",
       "0  b7b7764cfa1c523e4e93ab2a79a946c4   \n",
       "1  b7b7764cfa1c523e4e93ab2a79a946c4   \n",
       "2  b7b7764cfa1c523e4e93ab2a79a946c4   \n",
       "3  b7b7764cfa1c523e4e93ab2a79a946c4   \n",
       "4  b7b7764cfa1c523e4e93ab2a79a946c4   \n",
       "\n",
       "                                                TEXT cEXT cNEU cAGR cCON cOPN  \n",
       "0                        likes the sound of thunder.    n    y    n    n    y  \n",
       "1  is so sleepy it's not even funny that's she ca...    n    y    n    n    y  \n",
       "2  is sore and wants the knot of muscles at the b...    n    y    n    n    y  \n",
       "3         likes how the day sounds in this new song.    n    y    n    n    y  \n",
       "4                                        is home. <3    n    y    n    n    y  "
      ]
     },
     "execution_count": 24,
     "metadata": {},
     "output_type": "execute_result"
    }
   ],
   "source": [
    "df.head()"
   ]
  },
  {
   "cell_type": "code",
   "execution_count": 25,
   "metadata": {},
   "outputs": [],
   "source": [
    "new_data1={\"#AUTHID\":df[\"#AUTHID\"],\"TEXT\":df[\"TEXT\"],\"cEXT\":df[\"cEXT\"]}\n",
    "new_data2={\"#AUTHID\":df[\"#AUTHID\"],\"TEXT\":df[\"TEXT\"],\"cNEU\":df[\"cNEU\"]}\n",
    "new_data3={\"#AUTHID\":df[\"#AUTHID\"],\"TEXT\":df[\"TEXT\"],\"cAGR\":df[\"cAGR\"]}\n",
    "new_data4={\"#AUTHID\":df[\"#AUTHID\"],\"TEXT\":df[\"TEXT\"],\"cCON\":df[\"cCON\"]}\n",
    "new_data5={\"#AUTHID\":df[\"#AUTHID\"],\"TEXT\":df[\"TEXT\"],\"cOPN\":df[\"cOPN\"]}"
   ]
  },
  {
   "cell_type": "code",
   "execution_count": 26,
   "metadata": {},
   "outputs": [],
   "source": [
    "df_new1 = pd.DataFrame(new_data1)\n",
    "df_new2 = pd.DataFrame(new_data2)\n",
    "df_new3 = pd.DataFrame(new_data3)\n",
    "df_new4 = pd.DataFrame(new_data4)\n",
    "df_new5 = pd.DataFrame(new_data5)"
   ]
  },
  {
   "cell_type": "code",
   "execution_count": 27,
   "metadata": {},
   "outputs": [],
   "source": [
    "df_new1.to_csv(save_path+\"cEXT_dataset.csv\")\n",
    "df_new2.to_csv(save_path+\"cNEU_dataset.csv\")\n",
    "df_new3.to_csv(save_path+\"cAGR_dataset.csv\")\n",
    "df_new4.to_csv(save_path+\"cCON_dataset.csv\")\n",
    "df_new5.to_csv(save_path+\"cOPN_dataset.csv\")"
   ]
  },
  {
   "cell_type": "code",
   "execution_count": 20,
   "metadata": {},
   "outputs": [
    {
     "data": {
      "text/plain": [
       "#AUTHID                     b7b7764cfa1c523e4e93ab2a79a946c4\n",
       "TEXT       realizes traditional media hate her and has sh...\n",
       "cEXT                                                       n\n",
       "Name: 52, dtype: object"
      ]
     },
     "execution_count": 20,
     "metadata": {},
     "output_type": "execute_result"
    }
   ],
   "source": [
    "df_new.iloc[52]"
   ]
  }
 ],
 "metadata": {
  "interpreter": {
   "hash": "6fd0a38be8a8860b32515c0cff9c5c8f8e878e680347cbb001010be9b06be086"
  },
  "kernelspec": {
   "display_name": "Python 3.9.5 64-bit",
   "language": "python",
   "name": "python3"
  },
  "language_info": {
   "codemirror_mode": {
    "name": "ipython",
    "version": 3
   },
   "file_extension": ".py",
   "mimetype": "text/x-python",
   "name": "python",
   "nbconvert_exporter": "python",
   "pygments_lexer": "ipython3",
   "version": "3.9.5"
  },
  "orig_nbformat": 4
 },
 "nbformat": 4,
 "nbformat_minor": 2
}
